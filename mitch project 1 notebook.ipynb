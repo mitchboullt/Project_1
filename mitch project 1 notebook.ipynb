{
 "cells": [
  {
   "cell_type": "code",
   "execution_count": 1,
   "id": "9452d460",
   "metadata": {
    "scrolled": true
   },
   "outputs": [],
   "source": [
    "import pandas as pd\n",
    "import sqlite3 as sql\n",
    "import numpy as np\n",
    "import requests\n",
    "import json\n",
    "import matplotlib.pyplot as plt\n",
    "import os\n",
    "from functools import partial, reduce\n",
    "from nba_api.stats.static import players\n",
    "from nba_api.stats.endpoints import draftcombinestats\n",
    "from nba_api.stats.endpoints import drafthistory\n",
    "from nba_api.stats import endpoints\n",
    "draft_df = pd.read_excel('Resources/NBA Drafts.xlsx')\n",
    "mvp = pd.read_excel('new_folder/NBA_Finals_and_MVP.xlsx')"
   ]
  },
  {
   "cell_type": "code",
   "execution_count": 98,
   "id": "76f93a00",
   "metadata": {},
   "outputs": [
    {
     "ename": "KeyError",
     "evalue": "('MVP Team', 'MVP Name')",
     "output_type": "error",
     "traceback": [
      "\u001b[0;31m---------------------------------------------------------------------------\u001b[0m",
      "\u001b[0;31mKeyError\u001b[0m                                  Traceback (most recent call last)",
      "\u001b[0;32m/opt/anaconda3/envs/PythonData/lib/python3.7/site-packages/pandas/core/indexes/base.py\u001b[0m in \u001b[0;36mget_loc\u001b[0;34m(self, key, method, tolerance)\u001b[0m\n\u001b[1;32m   3079\u001b[0m             \u001b[0;32mtry\u001b[0m\u001b[0;34m:\u001b[0m\u001b[0;34m\u001b[0m\u001b[0;34m\u001b[0m\u001b[0m\n\u001b[0;32m-> 3080\u001b[0;31m                 \u001b[0;32mreturn\u001b[0m \u001b[0mself\u001b[0m\u001b[0;34m.\u001b[0m\u001b[0m_engine\u001b[0m\u001b[0;34m.\u001b[0m\u001b[0mget_loc\u001b[0m\u001b[0;34m(\u001b[0m\u001b[0mcasted_key\u001b[0m\u001b[0;34m)\u001b[0m\u001b[0;34m\u001b[0m\u001b[0;34m\u001b[0m\u001b[0m\n\u001b[0m\u001b[1;32m   3081\u001b[0m             \u001b[0;32mexcept\u001b[0m \u001b[0mKeyError\u001b[0m \u001b[0;32mas\u001b[0m \u001b[0merr\u001b[0m\u001b[0;34m:\u001b[0m\u001b[0;34m\u001b[0m\u001b[0;34m\u001b[0m\u001b[0m\n",
      "\u001b[0;32mpandas/_libs/index.pyx\u001b[0m in \u001b[0;36mpandas._libs.index.IndexEngine.get_loc\u001b[0;34m()\u001b[0m\n",
      "\u001b[0;32mpandas/_libs/index.pyx\u001b[0m in \u001b[0;36mpandas._libs.index.IndexEngine.get_loc\u001b[0;34m()\u001b[0m\n",
      "\u001b[0;32mpandas/_libs/hashtable_class_helper.pxi\u001b[0m in \u001b[0;36mpandas._libs.hashtable.PyObjectHashTable.get_item\u001b[0;34m()\u001b[0m\n",
      "\u001b[0;32mpandas/_libs/hashtable_class_helper.pxi\u001b[0m in \u001b[0;36mpandas._libs.hashtable.PyObjectHashTable.get_item\u001b[0;34m()\u001b[0m\n",
      "\u001b[0;31mKeyError\u001b[0m: ('MVP Team', 'MVP Name')",
      "\nThe above exception was the direct cause of the following exception:\n",
      "\u001b[0;31mKeyError\u001b[0m                                  Traceback (most recent call last)",
      "\u001b[0;32m/var/folders/3k/6xzjh8pd05z3pk2qlf50c_b80000gn/T/ipykernel_42200/1623452787.py\u001b[0m in \u001b[0;36m<module>\u001b[0;34m\u001b[0m\n\u001b[0;32m----> 1\u001b[0;31m \u001b[0mmvp\u001b[0m\u001b[0;34m[\u001b[0m\u001b[0;34m'MVP Team'\u001b[0m\u001b[0;34m,\u001b[0m\u001b[0;34m'MVP Name'\u001b[0m\u001b[0;34m]\u001b[0m\u001b[0;34m\u001b[0m\u001b[0;34m\u001b[0m\u001b[0m\n\u001b[0m",
      "\u001b[0;32m/opt/anaconda3/envs/PythonData/lib/python3.7/site-packages/pandas/core/frame.py\u001b[0m in \u001b[0;36m__getitem__\u001b[0;34m(self, key)\u001b[0m\n\u001b[1;32m   3022\u001b[0m             \u001b[0;32mif\u001b[0m \u001b[0mself\u001b[0m\u001b[0;34m.\u001b[0m\u001b[0mcolumns\u001b[0m\u001b[0;34m.\u001b[0m\u001b[0mnlevels\u001b[0m \u001b[0;34m>\u001b[0m \u001b[0;36m1\u001b[0m\u001b[0;34m:\u001b[0m\u001b[0;34m\u001b[0m\u001b[0;34m\u001b[0m\u001b[0m\n\u001b[1;32m   3023\u001b[0m                 \u001b[0;32mreturn\u001b[0m \u001b[0mself\u001b[0m\u001b[0;34m.\u001b[0m\u001b[0m_getitem_multilevel\u001b[0m\u001b[0;34m(\u001b[0m\u001b[0mkey\u001b[0m\u001b[0;34m)\u001b[0m\u001b[0;34m\u001b[0m\u001b[0;34m\u001b[0m\u001b[0m\n\u001b[0;32m-> 3024\u001b[0;31m             \u001b[0mindexer\u001b[0m \u001b[0;34m=\u001b[0m \u001b[0mself\u001b[0m\u001b[0;34m.\u001b[0m\u001b[0mcolumns\u001b[0m\u001b[0;34m.\u001b[0m\u001b[0mget_loc\u001b[0m\u001b[0;34m(\u001b[0m\u001b[0mkey\u001b[0m\u001b[0;34m)\u001b[0m\u001b[0;34m\u001b[0m\u001b[0;34m\u001b[0m\u001b[0m\n\u001b[0m\u001b[1;32m   3025\u001b[0m             \u001b[0;32mif\u001b[0m \u001b[0mis_integer\u001b[0m\u001b[0;34m(\u001b[0m\u001b[0mindexer\u001b[0m\u001b[0;34m)\u001b[0m\u001b[0;34m:\u001b[0m\u001b[0;34m\u001b[0m\u001b[0;34m\u001b[0m\u001b[0m\n\u001b[1;32m   3026\u001b[0m                 \u001b[0mindexer\u001b[0m \u001b[0;34m=\u001b[0m \u001b[0;34m[\u001b[0m\u001b[0mindexer\u001b[0m\u001b[0;34m]\u001b[0m\u001b[0;34m\u001b[0m\u001b[0;34m\u001b[0m\u001b[0m\n",
      "\u001b[0;32m/opt/anaconda3/envs/PythonData/lib/python3.7/site-packages/pandas/core/indexes/base.py\u001b[0m in \u001b[0;36mget_loc\u001b[0;34m(self, key, method, tolerance)\u001b[0m\n\u001b[1;32m   3080\u001b[0m                 \u001b[0;32mreturn\u001b[0m \u001b[0mself\u001b[0m\u001b[0;34m.\u001b[0m\u001b[0m_engine\u001b[0m\u001b[0;34m.\u001b[0m\u001b[0mget_loc\u001b[0m\u001b[0;34m(\u001b[0m\u001b[0mcasted_key\u001b[0m\u001b[0;34m)\u001b[0m\u001b[0;34m\u001b[0m\u001b[0;34m\u001b[0m\u001b[0m\n\u001b[1;32m   3081\u001b[0m             \u001b[0;32mexcept\u001b[0m \u001b[0mKeyError\u001b[0m \u001b[0;32mas\u001b[0m \u001b[0merr\u001b[0m\u001b[0;34m:\u001b[0m\u001b[0;34m\u001b[0m\u001b[0;34m\u001b[0m\u001b[0m\n\u001b[0;32m-> 3082\u001b[0;31m                 \u001b[0;32mraise\u001b[0m \u001b[0mKeyError\u001b[0m\u001b[0;34m(\u001b[0m\u001b[0mkey\u001b[0m\u001b[0;34m)\u001b[0m \u001b[0;32mfrom\u001b[0m \u001b[0merr\u001b[0m\u001b[0;34m\u001b[0m\u001b[0;34m\u001b[0m\u001b[0m\n\u001b[0m\u001b[1;32m   3083\u001b[0m \u001b[0;34m\u001b[0m\u001b[0m\n\u001b[1;32m   3084\u001b[0m         \u001b[0;32mif\u001b[0m \u001b[0mtolerance\u001b[0m \u001b[0;32mis\u001b[0m \u001b[0;32mnot\u001b[0m \u001b[0;32mNone\u001b[0m\u001b[0;34m:\u001b[0m\u001b[0;34m\u001b[0m\u001b[0;34m\u001b[0m\u001b[0m\n",
      "\u001b[0;31mKeyError\u001b[0m: ('MVP Team', 'MVP Name')"
     ]
    }
   ],
   "source": [
    "mvp.loc['MVP Team','MVP Name']"
   ]
  },
  {
   "cell_type": "code",
   "execution_count": 94,
   "id": "76d08bce",
   "metadata": {},
   "outputs": [],
   "source": []
  },
  {
   "cell_type": "code",
   "execution_count": 74,
   "id": "79830319",
   "metadata": {},
   "outputs": [
    {
     "data": {
      "text/html": [
       "<div>\n",
       "<style scoped>\n",
       "    .dataframe tbody tr th:only-of-type {\n",
       "        vertical-align: middle;\n",
       "    }\n",
       "\n",
       "    .dataframe tbody tr th {\n",
       "        vertical-align: top;\n",
       "    }\n",
       "\n",
       "    .dataframe thead th {\n",
       "        text-align: right;\n",
       "    }\n",
       "</style>\n",
       "<table border=\"1\" class=\"dataframe\">\n",
       "  <thead>\n",
       "    <tr style=\"text-align: right;\">\n",
       "      <th></th>\n",
       "      <th>MVP Name</th>\n",
       "    </tr>\n",
       "  </thead>\n",
       "  <tbody>\n",
       "    <tr>\n",
       "      <th>65</th>\n",
       "      <td>S. Curry</td>\n",
       "    </tr>\n",
       "    <tr>\n",
       "      <th>66</th>\n",
       "      <td>S. Curry</td>\n",
       "    </tr>\n",
       "  </tbody>\n",
       "</table>\n",
       "</div>"
      ],
      "text/plain": [
       "    MVP Name\n",
       "65  S. Curry\n",
       "66  S. Curry"
      ]
     },
     "execution_count": 74,
     "metadata": {},
     "output_type": "execute_result"
    }
   ],
   "source": []
  },
  {
   "cell_type": "code",
   "execution_count": 2,
   "id": "3c2ed788",
   "metadata": {},
   "outputs": [],
   "source": [
    "draftstats09 = draftcombinestats.DraftCombineStats(season_all_time=2009).get_dict()['resultSets'][0]['rowSet']\n",
    "draftstats03 = draftcombinestats.DraftCombineStats(season_all_time = 2003).get_dict()['resultSets'][0]['rowSet']\n",
    "draftstats07 = draftcombinestats.DraftCombineStats(season_all_time = 2007).get_dict()['resultSets'][0]['rowSet']\n",
    "draftstats08 = draftcombinestats.DraftCombineStats(season_all_time = 2008).get_dict()['resultSets'][0]['rowSet']"
   ]
  },
  {
   "cell_type": "code",
   "execution_count": 3,
   "id": "485c5574",
   "metadata": {},
   "outputs": [],
   "source": [
    "draftstats00 = draftcombinestats.DraftCombineStats(season_all_time = 2000).get_dict()['resultSets'][0]['rowSet']\n",
    "draftstats01 = draftcombinestats.DraftCombineStats(season_all_time = 2001).get_dict()['resultSets'][0]['rowSet']\n",
    "draftstats02 = draftcombinestats.DraftCombineStats(season_all_time = 2002).get_dict()['resultSets'][0]['rowSet']"
   ]
  },
  {
   "cell_type": "code",
   "execution_count": 4,
   "id": "aa33e78f",
   "metadata": {},
   "outputs": [],
   "source": [
    "draftstats04 = draftcombinestats.DraftCombineStats(season_all_time = 2004).get_dict()['resultSets'][0]['rowSet']\n",
    "draftstats05 = draftcombinestats.DraftCombineStats(season_all_time = 2005).get_dict()['resultSets'][0]['rowSet']\n",
    "draftstats06 = draftcombinestats.DraftCombineStats(season_all_time = 2006).get_dict()['resultSets'][0]['rowSet']\n",
    "draftstats10 = draftcombinestats.DraftCombineStats(season_all_time = 2010).get_dict()['resultSets'][0]['rowSet']"
   ]
  },
  {
   "cell_type": "code",
   "execution_count": 5,
   "id": "106dc5b6",
   "metadata": {},
   "outputs": [],
   "source": [
    "draftstats11= draftcombinestats.DraftCombineStats(season_all_time = 2011).get_dict()['resultSets'][0]['rowSet']\n",
    "draftstats12= draftcombinestats.DraftCombineStats(season_all_time = 2012).get_dict()['resultSets'][0]['rowSet']\n",
    "draftstats13 = draftcombinestats.DraftCombineStats(season_all_time = 2013).get_dict()['resultSets'][0]['rowSet']\n",
    "draftstats14 = draftcombinestats.DraftCombineStats(season_all_time = 2014).get_dict()['resultSets'][0]['rowSet']"
   ]
  },
  {
   "cell_type": "code",
   "execution_count": 31,
   "id": "7cdd0293",
   "metadata": {},
   "outputs": [],
   "source": [
    "draftstats15 = draftcombinestats.DraftCombineStats(season_all_time = 2015).get_dict()['resultSets'][0]['rowSet']\n",
    "draftstats16 = draftcombinestats.DraftCombineStats(season_all_time = 2016).get_dict()['resultSets'][0]['rowSet']\n",
    "draftstats17 = draftcombinestats.DraftCombineStats(season_all_time = 2017).get_dict()['resultSets'][0]['rowSet']\n",
    "draftstats18 = draftcombinestats.DraftCombineStats(season_all_time = 2018).get_dict()['resultSets'][0]['rowSet']"
   ]
  },
  {
   "cell_type": "code",
   "execution_count": 32,
   "id": "7dfd5f09",
   "metadata": {},
   "outputs": [],
   "source": [
    "data_frames_list=[pd.DataFrame(draftstats00),\n",
    "                   pd.DataFrame(draftstats01),\n",
    "                   pd.DataFrame(draftstats02),\n",
    "                   pd.DataFrame(draftstats03),\n",
    "                   pd.DataFrame(draftstats04),\n",
    "                   pd.DataFrame(draftstats05),\n",
    "                   pd.DataFrame(draftstats06),\n",
    "                   pd.DataFrame(draftstats07),\n",
    "                   pd.DataFrame(draftstats08),\n",
    "                   pd.DataFrame(draftstats10),\n",
    "                   pd.DataFrame(draftstats11),\n",
    "                   pd.DataFrame(draftstats12),\n",
    "                   pd.DataFrame(draftstats13),\n",
    "                   pd.DataFrame(draftstats14),\n",
    "                   pd.DataFrame(draftstats15),\n",
    "                   pd.DataFrame(draftstats16),\n",
    "                   pd.DataFrame(draftstats17),\n",
    "                   pd.DataFrame(draftstats18)\n",
    "                  ]"
   ]
  },
  {
   "cell_type": "code",
   "execution_count": 33,
   "id": "22aac0b2",
   "metadata": {},
   "outputs": [],
   "source": [
    "headers = pd.DataFrame(draftcombinestats.DraftCombineStats(season_all_time=2009).get_dict()['resultSets'][0]['headers'])\n",
    "james_harden = pd.DataFrame(draftstats09[23])\n",
    "lebron = pd.DataFrame(draftstats03[37])\n",
    "kd = pd.DataFrame(draftstats07[16])\n",
    "rose = pd.DataFrame(draftstats08[65])\n",
    "curry = pd.DataFrame(draftstats09[12])\n",
    "westbrook = pd.DataFrame(draftstats08[74])\n"
   ]
  },
  {
   "cell_type": "code",
   "execution_count": 34,
   "id": "175365fb",
   "metadata": {},
   "outputs": [],
   "source": [
    "draft_data_frames1 = reduce(lambda  left,right: pd.merge(left,right,on=[0],\n",
    "                                            how='outer'),data_frames_list)"
   ]
  },
  {
   "cell_type": "code",
   "execution_count": null,
   "id": "2b21d534",
   "metadata": {},
   "outputs": [],
   "source": [
    "\n"
   ]
  },
  {
   "cell_type": "code",
   "execution_count": null,
   "id": "e64b5870",
   "metadata": {},
   "outputs": [],
   "source": [
    "draft_data_frames1=draft_data_frames1.iloc[:,[6,10,13,15,19]].rename(columns={\"6_x\":'HEIGHT_WO_SHOES', '10_x':'WEIGHT','13_x':'STANDING_REACH','15_x':'BODY_FAT_PCT','19_x':'MAX_VERTICAL_LEAP'})"
   ]
  },
  {
   "cell_type": "code",
   "execution_count": null,
   "id": "3dbd341a",
   "metadata": {},
   "outputs": [],
   "source": [
    "height = draft_data_frames1['HEIGHT_WO_SHOES'].mean()\n",
    "reach = draft_data_frames1['STANDING_REACH'].mean()\n",
    "leap = draft_data_frames1['MAX_VERTICAL_LEAP'].mean()"
   ]
  },
  {
   "cell_type": "code",
   "execution_count": null,
   "id": "4bab70bd",
   "metadata": {},
   "outputs": [],
   "source": [
    "height"
   ]
  },
  {
   "cell_type": "code",
   "execution_count": null,
   "id": "9fb1042b",
   "metadata": {},
   "outputs": [],
   "source": [
    "draft_stats = pd.DataFrame(headers).rename(columns={0:'Header'})\n",
    "draft_stats['LeBron James'] = lebron\n",
    "draft_stats['Derrick Rose'] = rose\n",
    "draft_stats['Kevin Durant'] = kd\n",
    "draft_stats['Steph Curry'] = curry\n",
    "draft_stats['Rrussell Westbrook']=westbrook\n",
    "\n",
    "draft_stats = draft_stats.iloc[[6,13,19],:].set_index('Header').T\n",
    "draft_stats"
   ]
  },
  {
   "cell_type": "code",
   "execution_count": null,
   "id": "a9947fa7",
   "metadata": {},
   "outputs": [],
   "source": [
    "height = draft_data_frames1['HEIGHT_WO_SHOES'].mean()\n",
    "weight = draft_data_frames1['WEIGHT'].mean()\n",
    "reach = draft_data_frames1['STANDING_REACH'].mean()\n",
    "body_fat = draft_data_franes1['BODY_FAT_PCT'].mean()\n",
    "draft_data_franes1['MAX_VERTICAL_LEAP'].mean()"
   ]
  },
  {
   "cell_type": "code",
   "execution_count": null,
   "id": "e87cf0d4",
   "metadata": {},
   "outputs": [],
   "source": [
    "players = ['Bob Pettit','Bob Cousy','Bill Russell','Wilt Chamberlain','Oscar Robertson','Wes Unseld','Willis Reed','Kareem Abdul-Jabbar','Dave Cowens','Bob McAdoo','Bill Walton','Moses Malone','Julius Erving','Larry Bird','Magic Johnson','Michael Jordan','Charles Barkley','Hakeem Olajuwon','David Robinson','Karl Malone',\"Shaquille O'Neal\",'Allen Iverson','Tim Duncan','Kevin Garnett','Steve Nash','Dirk Nowitzki','Kobe Bryant','LeBron James','Derrick Rose','Kevin Durant','Stephen Curry','Russell Westbrook','James Harden']\n",
    "players = pd.DataFrame(players) \n",
    "players = players.rename(columns={ 0 : 'Player'})\n",
    "draft_history = drafthistory.DraftHistory().get_dict()\n",
    "all_drafts_headers = pd.DataFrame(draft_history['resultSets'][0]['headers'])\n",
    "draft_history = pd.DataFrame(draft_history['resultSets'][0]['rowSet']).iloc[:,[1,2,3,4,11]].rename(columns={ 1 : 'Player', 2:'Year',3:'Round',4:'Pick',11:\"College\"})"
   ]
  },
  {
   "cell_type": "code",
   "execution_count": null,
   "id": "dca9a4d8",
   "metadata": {},
   "outputs": [],
   "source": [
    "mvp_draft=pd.merge(players, draft_history, on=\"Player\", how=\"left\")"
   ]
  },
  {
   "cell_type": "code",
   "execution_count": null,
   "id": "65ed8261",
   "metadata": {},
   "outputs": [],
   "source": [
    "mvp_draft=mvp_draft.iloc[:,0:6]\n",
    "mvp_draft_pick_chart=mvp_draft.groupby('Pick').count()['Player'].plot(kind='bar', ylabel= 'number of picks')"
   ]
  },
  {
   "cell_type": "code",
   "execution_count": null,
   "id": "fd294b6e",
   "metadata": {},
   "outputs": [],
   "source": [
    "mvp_draft.groupby('College').count()['Player'].plot(kind='bar',ylabel= \"number of mvps\")"
   ]
  },
  {
   "cell_type": "code",
   "execution_count": null,
   "id": "6a08943d",
   "metadata": {},
   "outputs": [],
   "source": [
    "total_drafted = len(draft_history)\n",
    "total_mvps = len(players)\n",
    "non_mvps= total_drafted - total_mvps\n",
    "labels = ['mvps','non_mvps']\n",
    "explode = (0.8, 0.0,)\n",
    "y = np.array([total_mvps,non_mvps])\n",
    "plt.pie(y,labels = labels,autopct=\"%1.2f%%\",pctdistance=1.2,labeldistance=1.45,explode = explode) \n",
    "plt.show()"
   ]
  },
  {
   "cell_type": "code",
   "execution_count": null,
   "id": "0da93e28",
   "metadata": {},
   "outputs": [],
   "source": [
    "total_drafted"
   ]
  },
  {
   "cell_type": "code",
   "execution_count": null,
   "id": "6c7683da",
   "metadata": {},
   "outputs": [],
   "source": [
    "draft_df['College'].value_counts().head(10).plot(kind='bar',ylabel='Total Players Drafted')"
   ]
  },
  {
   "cell_type": "code",
   "execution_count": null,
   "id": "aeb40fcc",
   "metadata": {
    "scrolled": true
   },
   "outputs": [],
   "source": [
    "mvp_postions = mvp['MVP Position']"
   ]
  },
  {
   "cell_type": "code",
   "execution_count": null,
   "id": "c39dfff8",
   "metadata": {
    "scrolled": true
   },
   "outputs": [],
   "source": [
    "mvp_postions = pd.DataFrame(mvp_postions)"
   ]
  },
  {
   "cell_type": "code",
   "execution_count": null,
   "id": "46a47cb8",
   "metadata": {},
   "outputs": [],
   "source": [
    "mvp_postions_percentage = mvp_postions.value_counts()"
   ]
  },
  {
   "cell_type": "code",
   "execution_count": null,
   "id": "354dde70",
   "metadata": {},
   "outputs": [],
   "source": [
    "mvp_postions_percentage.plot(kind = \"pie\", autopct=\"%1.1f%%\")"
   ]
  },
  {
   "cell_type": "code",
   "execution_count": null,
   "id": "ec7e3f0b",
   "metadata": {},
   "outputs": [],
   "source": [
    "sixties = mvp.iloc[10:19]['MVP Position']\n",
    "seventies = mvp.iloc[20:29]['MVP Position']\n",
    "eighties = mvp.iloc[30:39]['MVP Position']\n",
    "nineties = mvp.iloc[40:49]['MVP Position']\n",
    "twok = mvp.iloc[50:59]['MVP Position']\n",
    "tens = mvp.iloc[60:69]['MVP Position']"
   ]
  },
  {
   "cell_type": "code",
   "execution_count": null,
   "id": "d11d922f",
   "metadata": {},
   "outputs": [],
   "source": [
    "sixties = sixties.value_counts()\n",
    "seventies = seventies.value_counts()\n",
    "eighties = eighties.value_counts()\n",
    "nineties = nineties.value_counts()\n",
    "twok = twok.value_counts()\n",
    "tens = tens.value_counts()"
   ]
  },
  {
   "cell_type": "code",
   "execution_count": null,
   "id": "f5e32785",
   "metadata": {},
   "outputs": [],
   "source": [
    "index = ['60s','70s','80s', '90s']\n",
    "df = pd.DataFrame({'60': sixties,\n",
    "                   '70s': seventies,\n",
    "                   '80s': eighties,\n",
    "                   '90s':nineties,\n",
    "                   '00s':twok,\n",
    "                   '10s':tens\n",
    "                  })"
   ]
  },
  {
   "cell_type": "code",
   "execution_count": null,
   "id": "c293bbca",
   "metadata": {
    "scrolled": false
   },
   "outputs": [],
   "source": [
    "df = df.T\n",
    "df.plot.bar(rot=0)"
   ]
  },
  {
   "cell_type": "code",
   "execution_count": null,
   "id": "6b1ff8a9",
   "metadata": {
    "scrolled": true
   },
   "outputs": [],
   "source": [
    "heightdf = pd.DataFrame(mvp['MVP Height (ft)'])\n",
    "heightdf.plot.box(xlabel = \" \", ylabel = \"Feet\")"
   ]
  },
  {
   "cell_type": "code",
   "execution_count": null,
   "id": "5204b148",
   "metadata": {},
   "outputs": [],
   "source": [
    "quartiles = mvp['MVP Height (ft)'].quantile([.25,.5,.75])\n",
    "lowerq = quartiles[0.25]\n",
    "midq = quartiles[0.5]\n",
    "upperq = quartiles[0.75]\n",
    "iqr = upperq-lowerq\n",
    "quartiles"
   ]
  },
  {
   "cell_type": "code",
   "execution_count": null,
   "id": "93978e84",
   "metadata": {},
   "outputs": [],
   "source": [
    "# corr = pd.DataFrame(capo_weight_df.corr())\n",
    "# corr = corr.loc['Tumor Volume (mm3)','Weight (g)']"
   ]
  },
  {
   "cell_type": "code",
   "execution_count": null,
   "id": "d6795e38",
   "metadata": {},
   "outputs": [],
   "source": []
  },
  {
   "cell_type": "code",
   "execution_count": null,
   "id": "a7d50554",
   "metadata": {},
   "outputs": [],
   "source": []
  }
 ],
 "metadata": {
  "kernelspec": {
   "display_name": "PythonData",
   "language": "python",
   "name": "pythondata"
  },
  "language_info": {
   "codemirror_mode": {
    "name": "ipython",
    "version": 3
   },
   "file_extension": ".py",
   "mimetype": "text/x-python",
   "name": "python",
   "nbconvert_exporter": "python",
   "pygments_lexer": "ipython3",
   "version": "3.7.7"
  }
 },
 "nbformat": 4,
 "nbformat_minor": 5
}
