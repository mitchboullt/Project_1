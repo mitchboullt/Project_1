{
 "cells": [
  {
   "cell_type": "code",
   "execution_count": null,
   "id": "07a62b91",
   "metadata": {},
   "outputs": [],
   "source": [
    "#import dependencies \n",
    "import pandas as pd\n",
    "import sqlite3 as sql\n",
    "import numpy as np\n",
    "import requests\n",
    "import json\n",
    "import matplotlib.pyplot as plt\n",
    "import scipy.stats as stats\n",
    "import os\n"
   ]
  },
  {
   "cell_type": "code",
   "execution_count": null,
   "id": "9452d460",
   "metadata": {
    "scrolled": true
   },
   "outputs": [],
   "source": [
    "#import nba_api\n",
    "from functools import partial, reduce\n",
    "from nba_api.stats.static import players\n",
    "from nba_api.stats.endpoints import draftcombinestats\n",
    "from nba_api.stats.endpoints import drafthistory\n",
    "from nba_api.stats import endpoints\n",
    "\n",
    "mvp = pd.read_excel('new_folder/NBA_Finals_and_MVP.xlsx')"
   ]
  },
  {
   "cell_type": "code",
   "execution_count": null,
   "id": "4d680f6b",
   "metadata": {},
   "outputs": [],
   "source": [
    "from nba_api.stats.endpoints import playercareerstats"
   ]
  },
  {
   "cell_type": "code",
   "execution_count": null,
   "id": "d3d1097a",
   "metadata": {},
   "outputs": [],
   "source": [
    "#access mvp stat rankings from the year they won mvp\n",
    "jh18=playercareerstats.PlayerCareerStats(player_id=201935).get_dict()['resultSets'][10]['rowSet'][8]\n",
    "sc16=playercareerstats.PlayerCareerStats(player_id=201939).get_dict()['resultSets'][10]['rowSet'][6]\n",
    "sc15=playercareerstats.PlayerCareerStats(player_id=201939).get_dict()['resultSets'][10]['rowSet'][5]\n",
    "kd14=playercareerstats.PlayerCareerStats(player_id=201142).get_dict()['resultSets'][10]['rowSet'][6]\n",
    "dr11=playercareerstats.PlayerCareerStats(player_id=201565).get_dict()['resultSets'][10]['rowSet'][2]\n",
    "lj13=playercareerstats.PlayerCareerStats(player_id=2544).get_dict()['resultSets'][10]['rowSet'][9]\n",
    "lj12=playercareerstats.PlayerCareerStats(player_id=2544).get_dict()['resultSets'][10]['rowSet'][8]\n",
    "lj10=playercareerstats.PlayerCareerStats(player_id=2544).get_dict()['resultSets'][10]['rowSet'][6]\n"
   ]
  },
  {
   "cell_type": "code",
   "execution_count": null,
   "id": "63e732aa",
   "metadata": {},
   "outputs": [],
   "source": [
    "rw17=playercareerstats.PlayerCareerStats(player_id=201566).get_dict()['resultSets'][10]['rowSet'][8]\n",
    "ga19=playercareerstats.PlayerCareerStats(player_id=203507).get_dict()['resultSets'][10]['rowSet'][4]\n",
    "ga20=playercareerstats.PlayerCareerStats(player_id=203507).get_dict()['resultSets'][10]['rowSet'][3]\n"
   ]
  },
  {
   "cell_type": "code",
   "execution_count": null,
   "id": "40243a48",
   "metadata": {},
   "outputs": [],
   "source": [
    "#convert stat rankings in a dataframe\n",
    "lj10=pd.DataFrame(lj10)\n",
    "dr11=pd.DataFrame(dr11)\n",
    "lj12=pd.DataFrame(lj12)\n",
    "lj13=pd.DataFrame(lj13)\n",
    "kd14=pd.DataFrame(kd14)\n",
    "sc15=pd.DataFrame(sc15)\n",
    "sc16=pd.DataFrame(sc16)\n",
    "jh18=pd.DataFrame(jh18)\n",
    "rw17=pd.DataFrame(rw17)\n",
    "ga19=pd.DataFrame(ga19)\n",
    "ga20=pd.DataFrame(ga20)"
   ]
  },
  {
   "cell_type": "code",
   "execution_count": null,
   "id": "5a177fa7",
   "metadata": {},
   "outputs": [],
   "source": [
    "#combine stat ranking data bases \n",
    "seasonheaders=pd.DataFrame(playercareerstats.PlayerCareerStats(player_id=203507).get_dict()['resultSets'][10]['headers'])"
   ]
  },
  {
   "cell_type": "code",
   "execution_count": null,
   "id": "bf921252",
   "metadata": {},
   "outputs": [],
   "source": [
    "#plot database\n",
    "season_rankings = pd.DataFrame(seasonheaders).rename(columns={0:'Header'})\n",
    "season_rankings['2010']=lj10\n",
    "season_rankings['2011']=dr11\n",
    "season_rankings['2012']=lj12\n",
    "season_rankings['2013']=lj13\n",
    "season_rankings['2014']=kd14\n",
    "season_rankings['2015']=sc15\n",
    "season_rankings['2016']=sc16\n",
    "season_rankings['2017']=jh18\n",
    "season_rankings['2018']=rw17\n",
    "season_rankings['2019']=ga19\n",
    "season_rankings['2020']=ga20\n",
    "season_rankings.iloc[[11,12,20,21,22,25],:].set_index('Header').T.plot(kind='line',figsize=(20,10),ylabel=\"Season Ranking\",xlabel=\"MVP that Year\")"
   ]
  },
  {
   "cell_type": "code",
   "execution_count": null,
   "id": "76f93a00",
   "metadata": {
    "scrolled": true
   },
   "outputs": [],
   "source": [
    "#determine teams with most mvps and plot them in a pie chart\n",
    "team_mvps= pd.DataFrame(mvp[['MVP Name','MVP Team']].drop_duplicates().dropna().drop(index=([10,27])).groupby(['MVP Team'])['MVP Name'].count())\n",
    "majority = pd.DataFrame(team_mvps.loc[['Boston Celtics', \"Los Angeles Lakers\",\"Philadelphia 76ers\",\"Houston Rockets\"]]).T\n",
    "majority['Field']= 28\n",
    "labels = ('Boston Celtics',\"Los Angeles Lakers\",\"Philadelphia 76ers\",\"Houston Rockets\",'Field')\n",
    "plt.pie(majority,labels = labels,autopct=\"%1.2f%%\",pctdistance=.75,labeldistance=1.1)"
   ]
  },
  {
   "cell_type": "code",
   "execution_count": null,
   "id": "76d08bce",
   "metadata": {},
   "outputs": [],
   "source": [
    "#plot team mvps as bar chart\n",
    "team_mvps = mvp[['MVP Team','MVP Name']].drop_duplicates().groupby(['MVP Team'])['MVP Name'].count()"
   ]
  },
  {
   "cell_type": "code",
   "execution_count": null,
   "id": "79830319",
   "metadata": {
    "scrolled": true
   },
   "outputs": [],
   "source": [
    "team_mvps.plot(kind='bar')"
   ]
  },
  {
   "cell_type": "code",
   "execution_count": null,
   "id": "3c2ed788",
   "metadata": {},
   "outputs": [],
   "source": [
    "#create databases for mvp combine stats\n",
    "draftstats09 = draftcombinestats.DraftCombineStats(season_all_time=2009).get_dict()['resultSets'][0]['rowSet']\n",
    "draftstats03 = draftcombinestats.DraftCombineStats(season_all_time = 2003).get_dict()['resultSets'][0]['rowSet']\n",
    "draftstats07 = draftcombinestats.DraftCombineStats(season_all_time = 2007).get_dict()['resultSets'][0]['rowSet']\n",
    "draftstats08 = draftcombinestats.DraftCombineStats(season_all_time = 2008).get_dict()['resultSets'][0]['rowSet']"
   ]
  },
  {
   "cell_type": "code",
   "execution_count": null,
   "id": "485c5574",
   "metadata": {},
   "outputs": [],
   "source": [
    "draftstats00 = draftcombinestats.DraftCombineStats(season_all_time = 2000).get_dict()['resultSets'][0]['rowSet']\n",
    "draftstats01 = draftcombinestats.DraftCombineStats(season_all_time = 2001).get_dict()['resultSets'][0]['rowSet']\n",
    "draftstats02 = draftcombinestats.DraftCombineStats(season_all_time = 2002).get_dict()['resultSets'][0]['rowSet']"
   ]
  },
  {
   "cell_type": "code",
   "execution_count": null,
   "id": "aa33e78f",
   "metadata": {},
   "outputs": [],
   "source": [
    "draftstats04 = draftcombinestats.DraftCombineStats(season_all_time = 2004).get_dict()['resultSets'][0]['rowSet']\n",
    "draftstats05 = draftcombinestats.DraftCombineStats(season_all_time = 2005).get_dict()['resultSets'][0]['rowSet']\n",
    "draftstats06 = draftcombinestats.DraftCombineStats(season_all_time = 2006).get_dict()['resultSets'][0]['rowSet']\n",
    "draftstats10 = draftcombinestats.DraftCombineStats(season_all_time = 2010).get_dict()['resultSets'][0]['rowSet']"
   ]
  },
  {
   "cell_type": "code",
   "execution_count": null,
   "id": "106dc5b6",
   "metadata": {},
   "outputs": [],
   "source": [
    "draftstats11= draftcombinestats.DraftCombineStats(season_all_time = 2011).get_dict()['resultSets'][0]['rowSet']\n",
    "draftstats12= draftcombinestats.DraftCombineStats(season_all_time = 2012).get_dict()['resultSets'][0]['rowSet']\n",
    "draftstats13 = draftcombinestats.DraftCombineStats(season_all_time = 2013).get_dict()['resultSets'][0]['rowSet']\n",
    "draftstats14 = draftcombinestats.DraftCombineStats(season_all_time = 2014).get_dict()['resultSets'][0]['rowSet']"
   ]
  },
  {
   "cell_type": "code",
   "execution_count": null,
   "id": "7cdd0293",
   "metadata": {},
   "outputs": [],
   "source": [
    "draftstats15 = draftcombinestats.DraftCombineStats(season_all_time = 2015).get_dict()['resultSets'][0]['rowSet']\n",
    "draftstats16 = draftcombinestats.DraftCombineStats(season_all_time = 2016).get_dict()['resultSets'][0]['rowSet']\n",
    "draftstats17 = draftcombinestats.DraftCombineStats(season_all_time = 2017).get_dict()['resultSets'][0]['rowSet']\n",
    "draftstats18 = draftcombinestats.DraftCombineStats(season_all_time = 2018).get_dict()['resultSets'][0]['rowSet']"
   ]
  },
  {
   "cell_type": "code",
   "execution_count": null,
   "id": "7dfd5f09",
   "metadata": {},
   "outputs": [],
   "source": [
    "#put all draft combine stats data frames in a list\n",
    "data_frames_list=[pd.DataFrame(draftstats00),\n",
    "                   pd.DataFrame(draftstats01),\n",
    "                   pd.DataFrame(draftstats02),\n",
    "                   pd.DataFrame(draftstats03),\n",
    "                   pd.DataFrame(draftstats04),\n",
    "                   pd.DataFrame(draftstats05),\n",
    "                   pd.DataFrame(draftstats06),\n",
    "                   pd.DataFrame(draftstats07),\n",
    "                   pd.DataFrame(draftstats08),\n",
    "                   pd.DataFrame(draftstats10),\n",
    "                   pd.DataFrame(draftstats11),\n",
    "                   pd.DataFrame(draftstats12),\n",
    "                   pd.DataFrame(draftstats13),\n",
    "                   pd.DataFrame(draftstats14),\n",
    "                   pd.DataFrame(draftstats15),\n",
    "                   pd.DataFrame(draftstats16),\n",
    "                   pd.DataFrame(draftstats17),\n",
    "                   pd.DataFrame(draftstats18)\n",
    "                  ]"
   ]
  },
  {
   "cell_type": "code",
   "execution_count": null,
   "id": "22aac0b2",
   "metadata": {},
   "outputs": [],
   "source": [
    "#make a dataframe for just mvp stats\n",
    "headers = pd.DataFrame(draftcombinestats.DraftCombineStats(season_all_time=2009).get_dict()['resultSets'][0]['headers'])\n",
    "james_harden = pd.DataFrame(draftstats09[23])\n",
    "lebron = pd.DataFrame(draftstats03[37])\n",
    "kd = pd.DataFrame(draftstats07[16])\n",
    "rose = pd.DataFrame(draftstats08[65])\n",
    "curry = pd.DataFrame(draftstats09[12])\n",
    "westbrook = pd.DataFrame(draftstats08[74])"
   ]
  },
  {
   "cell_type": "code",
   "execution_count": null,
   "id": "175365fb",
   "metadata": {},
   "outputs": [],
   "source": [
    "#merge draft combine stats data frames list\n",
    "draft_data_frames1 = reduce(lambda  left,right: pd.merge(left,right,on=[0],how='outer'),data_frames_list)"
   ]
  },
  {
   "cell_type": "code",
   "execution_count": null,
   "id": "e64b5870",
   "metadata": {},
   "outputs": [],
   "source": [
    "#delete unneeded rows\n",
    "draft_data_frames1=draft_data_frames1.iloc[:,[6,10,13,15,19]].rename(columns={\"6_x\":'HEIGHT_WO_SHOES', '10_x':'WEIGHT','13_x':'STANDING_REACH','15_x':'BODY_FAT_PCT','19_x':'MAX_VERTICAL_LEAP'})"
   ]
  },
  {
   "cell_type": "code",
   "execution_count": null,
   "id": "3dbd341a",
   "metadata": {},
   "outputs": [],
   "source": [
    "#create variable for wanted draftcombine data\n",
    "height = draft_data_frames1['HEIGHT_WO_SHOES'].mean()\n",
    "reach = draft_data_frames1['STANDING_REACH'].mean()\n",
    "leap = draft_data_frames1['MAX_VERTICAL_LEAP'].mean()"
   ]
  },
  {
   "cell_type": "code",
   "execution_count": null,
   "id": "5030e064",
   "metadata": {},
   "outputs": [],
   "source": [
    "#combine mvp and average draftcombine stats\n",
    "draft_stats = pd.DataFrame(headers).rename(columns={0:'Header'}).iloc[[6,13,19],:]\n",
    "draft_stats['LeBron James'] = lebron\n",
    "draft_stats['Derrick Rose'] = rose\n",
    "draft_stats['Kevin Durant'] = kd\n",
    "draft_stats['Steph Curry'] = curry\n",
    "draft_stats['Rrussell Westbrook']=westbrook\n",
    "draft_stats['James Harden']=james_harden\n",
    "draft_stats['League Ave']=[height,reach,leap]\n",
    "draft_stats = draft_stats.set_index('Header')"
   ]
  },
  {
   "cell_type": "code",
   "execution_count": null,
   "id": "9fb1042b",
   "metadata": {},
   "outputs": [],
   "source": [
    "#plot draft combine stats\n",
    "draft_stats.plot.bar(ylabel = 'inches')"
   ]
  },
  {
   "cell_type": "code",
   "execution_count": null,
   "id": "e87cf0d4",
   "metadata": {},
   "outputs": [],
   "source": [
    "#make a dataframe for when all mvps were drafted and a data frame for ever draft ever\n",
    "players = ['Bob Pettit','Bob Cousy','Bill Russell','Wilt Chamberlain','Oscar Robertson','Wes Unseld','Willis Reed','Kareem Abdul-Jabbar','Dave Cowens','Bob McAdoo','Bill Walton','Moses Malone','Julius Erving','Larry Bird','Magic Johnson','Michael Jordan','Charles Barkley','Hakeem Olajuwon','David Robinson','Karl Malone',\"Shaquille O'Neal\",'Allen Iverson','Tim Duncan','Kevin Garnett','Steve Nash','Dirk Nowitzki','Kobe Bryant','LeBron James','Derrick Rose','Kevin Durant','Stephen Curry','Russell Westbrook','James Harden']\n",
    "players = pd.DataFrame(players) \n",
    "players = players.rename(columns={ 0 : 'Player'})\n",
    "draft_history = drafthistory.DraftHistory().get_dict()\n",
    "all_drafts_headers = pd.DataFrame(draft_history['resultSets'][0]['headers'])\n",
    "draft_history = pd.DataFrame(draft_history['resultSets'][0]['rowSet']).iloc[:,[1,2,3,4,11]].rename(columns={ 1 : 'Player', 2:'Year',3:'Round',4:'Pick',11:\"College\"})"
   ]
  },
  {
   "cell_type": "code",
   "execution_count": null,
   "id": "dca9a4d8",
   "metadata": {},
   "outputs": [],
   "source": [
    "#merge the 2 data frames\n",
    "mvp_draft=pd.merge(players, draft_history, on=\"Player\", how=\"left\")"
   ]
  },
  {
   "cell_type": "code",
   "execution_count": null,
   "id": "65ed8261",
   "metadata": {},
   "outputs": [],
   "source": [
    "#plot the draft pick data frame\n",
    "mvp_draft=mvp_draft.iloc[:,0:6].drop(index=(3))\n",
    "mvp_draft_pick_chart=mvp_draft.groupby('Pick').count()['Player'].plot(kind='bar', ylabel= 'number of picks', xlabel = 'Overall Pick in The draft')"
   ]
  },
  {
   "cell_type": "code",
   "execution_count": null,
   "id": "fd294b6e",
   "metadata": {},
   "outputs": [],
   "source": [
    "#plot the schools that produced mvps\n",
    "mvp_draft.groupby('College').count()['Player'].plot(kind='bar',ylabel= \"number of mvps\")"
   ]
  },
  {
   "cell_type": "code",
   "execution_count": null,
   "id": "cc271bd2",
   "metadata": {},
   "outputs": [],
   "source": [
    "#find the standard sevation between mvp colleges\n",
    "mvp_draft['College'].value_counts().std()"
   ]
  },
  {
   "cell_type": "code",
   "execution_count": null,
   "id": "44111cb8",
   "metadata": {},
   "outputs": [],
   "source": [
    "#find the zscores mvp colleges\n",
    "stats.zscore(mvp_draft['College'].value_counts())"
   ]
  },
  {
   "cell_type": "code",
   "execution_count": null,
   "id": "6a08943d",
   "metadata": {},
   "outputs": [],
   "source": [
    "#plot the difference between mvps and non mvps\n",
    "total_drafted = len(draft_history)\n",
    "total_mvps = len(players)\n",
    "non_mvps= total_drafted - total_mvps\n",
    "labels = ['mvps','non mvps']\n",
    "explode = (0.8, 0.0,)\n",
    "y = np.array([total_mvps,non_mvps])\n",
    "plt.pie(y,labels = labels,autopct=\"%1.2f%%\",pctdistance=1.2,labeldistance=1.45,explode = explode)\n",
    "plt.title(\"Percentage of Players That Become MVPs\")\n",
    "plt.show()"
   ]
  },
  {
   "cell_type": "code",
   "execution_count": null,
   "id": "0da93e28",
   "metadata": {},
   "outputs": [],
   "source": [
    "#plot overall college draft history top ten\n",
    "draft_history['College'].value_counts().head(10).plot.bar(ylabel='Total Players Drafted')"
   ]
  },
  {
   "cell_type": "code",
   "execution_count": null,
   "id": "aeb40fcc",
   "metadata": {
    "scrolled": true
   },
   "outputs": [],
   "source": [
    "#plot a pie chart of most mvps by postion\n",
    "mvp_postions = mvp['MVP Position']"
   ]
  },
  {
   "cell_type": "code",
   "execution_count": null,
   "id": "c39dfff8",
   "metadata": {
    "scrolled": true
   },
   "outputs": [],
   "source": [
    "mvp_postions = pd.DataFrame(mvp_postions)"
   ]
  },
  {
   "cell_type": "code",
   "execution_count": null,
   "id": "46a47cb8",
   "metadata": {},
   "outputs": [],
   "source": [
    "mvp_postions_percentage = mvp_postions.value_counts()"
   ]
  },
  {
   "cell_type": "code",
   "execution_count": null,
   "id": "354dde70",
   "metadata": {},
   "outputs": [],
   "source": [
    "mvp_postions_percentage.plot(kind = \"pie\", autopct=\"%1.1f%%\")"
   ]
  },
  {
   "cell_type": "code",
   "execution_count": null,
   "id": "ec7e3f0b",
   "metadata": {},
   "outputs": [],
   "source": [
    "#breakdown postioins by decade\n",
    "sixties = mvp.iloc[10:19]['MVP Position']\n",
    "seventies = mvp.iloc[20:29]['MVP Position']\n",
    "eighties = mvp.iloc[30:39]['MVP Position']\n",
    "nineties = mvp.iloc[40:49]['MVP Position']\n",
    "twok = mvp.iloc[50:59]['MVP Position']\n",
    "tens = mvp.iloc[60:69]['MVP Position']"
   ]
  },
  {
   "cell_type": "code",
   "execution_count": null,
   "id": "d11d922f",
   "metadata": {},
   "outputs": [],
   "source": [
    "sixties = sixties.value_counts()\n",
    "seventies = seventies.value_counts()\n",
    "eighties = eighties.value_counts()\n",
    "nineties = nineties.value_counts()\n",
    "twok = twok.value_counts()\n",
    "tens = tens.value_counts()"
   ]
  },
  {
   "cell_type": "code",
   "execution_count": null,
   "id": "f5e32785",
   "metadata": {},
   "outputs": [],
   "source": [
    "#plot postions by decade\n",
    "index = ['60s','70s','80s', '90s']\n",
    "postions_over_time  = pd.DataFrame({'60': sixties,\n",
    "                   '70s': seventies,\n",
    "                   '80s': eighties,\n",
    "                   '90s':nineties,\n",
    "                   '00s':twok,\n",
    "                   '10s':tens\n",
    "                  })"
   ]
  },
  {
   "cell_type": "code",
   "execution_count": null,
   "id": "c293bbca",
   "metadata": {
    "scrolled": false
   },
   "outputs": [],
   "source": [
    "postions_over_time = postions_over_time.T\n",
    "postions_over_time.plot.bar(rot=0)"
   ]
  },
  {
   "cell_type": "code",
   "execution_count": null,
   "id": "6b1ff8a9",
   "metadata": {
    "scrolled": true
   },
   "outputs": [],
   "source": [
    "#plot boxplot of mvp heights\n",
    "heightdf = pd.DataFrame(mvp['MVP Height (ft)'])\n",
    "heightdf.plot.box(xlabel = \" \", ylabel = \"Feet\")"
   ]
  },
  {
   "cell_type": "code",
   "execution_count": null,
   "id": "5204b148",
   "metadata": {},
   "outputs": [],
   "source": [
    "quartiles = mvp['MVP Height (ft)'].quantile([.25,.5,.75])\n",
    "lowerq = quartiles[0.25]\n",
    "midq = quartiles[0.5]\n",
    "upperq = quartiles[0.75]\n",
    "iqr = upperq-lowerq\n",
    "upperq"
   ]
  },
  {
   "cell_type": "code",
   "execution_count": null,
   "id": "93978e84",
   "metadata": {},
   "outputs": [],
   "source": [
    "# find correlation between height and time\n",
    "corr = mvp.loc[:,['MVP Height (ft)','Year']].dropna().corr()\n",
    "corr"
   ]
  },
  {
   "cell_type": "code",
   "execution_count": null,
   "id": "0059ed86",
   "metadata": {},
   "outputs": [],
   "source": []
  },
  {
   "cell_type": "code",
   "execution_count": null,
   "id": "d6795e38",
   "metadata": {},
   "outputs": [],
   "source": [
    "\n",
    "mvp_scatter = mvp.dropna().sort_values('MVP Height (ft)')\n",
    "y = mvp_scatter.loc[:,'MVP Height (ft)'].values.reshape(-1, 1)  \n",
    "x = mvp_scatter.loc[:,'Year'].values.reshape(-1, 1)  \n",
    "linear_regressor = LinearRegression() \n",
    "linear_regressor.fit(x, y)  # perform linear regression\n",
    "y_pred = linear_regressor.predict(x) \n",
    "plt.scatter(x, y)\n",
    "plt.plot(x, y_pred, color='red')\n",
    "plt.title(\"MVP Heights over time\")\n",
    "plt.xlabel(\"Year\")\n",
    "plt.ylabel(\"Height\")\n",
    "plt.show()"
   ]
  },
  {
   "cell_type": "code",
   "execution_count": null,
   "id": "eac9ab63",
   "metadata": {},
   "outputs": [],
   "source": [
    "html = 'http://www.espn.com/nba/history/awards/_/id/33'\n",
    "csv = 'my_file.csv'\n",
    "datat = pd.read_html(html)\n",
    "df = pd.DataFrame(datat[0])"
   ]
  },
  {
   "cell_type": "code",
   "execution_count": null,
   "id": "51e70c78",
   "metadata": {},
   "outputs": [],
   "source": [
    "new_df = df.iloc[1:26,0:9]\n",
    "new_df.rename(columns=df.iloc[1], inplace = True)\n",
    "new_df = new_df.iloc[1:25]"
   ]
  },
  {
   "cell_type": "code",
   "execution_count": null,
   "id": "4f61a877",
   "metadata": {},
   "outputs": [],
   "source": [
    "index = new_df['PLAYER']\n",
    "new_df['FG%'] = new_df['FG%'].astype(float)\n",
    "new_df['PPG'] = new_df['PPG'].astype(float)\n",
    "new_df['RPG'] = new_df['RPG'].astype(float)\n",
    "new_df['APG'] = new_df['APG'].astype(float)\n",
    "players = new_df['PLAYER']"
   ]
  },
  {
   "cell_type": "code",
   "execution_count": null,
   "id": "15f0b92a",
   "metadata": {},
   "outputs": [],
   "source": [
    "ppg = new_df['PPG']\n",
    "rpg = new_df['RPG']\n",
    "apg = new_df['APG']\n",
    "player_stats = pd.DataFrame({'name':players,\n",
    "                             'Point per Game': ppg,\n",
    "                             'Rebound per Game': rpg,\n",
    "                             'Assist per Game': apg,\n",
    "                            })"
   ]
  },
  {
   "cell_type": "code",
   "execution_count": null,
   "id": "ccdcf894",
   "metadata": {},
   "outputs": [],
   "source": [
    "df = pd.DataFrame({'points':[ppg],\n",
    "                    'rebounds':[rpg],\n",
    "                    'assists':[apg],\n",
    "                   }, index=index)"
   ]
  },
  {
   "cell_type": "code",
   "execution_count": null,
   "id": "a7d50554",
   "metadata": {},
   "outputs": [],
   "source": [
    "player_stats[['name', 'Point per Game', 'Rebound per Game', 'Assist per Game']].plot(x='name', kind='bar',xlabel='PLayer''s name',ylabel='Total COntribution',title='1999-2021 MVP Contribution',figsize=(15,5),stacked=True)"
   ]
  }
 ],
 "metadata": {
  "kernelspec": {
   "display_name": "PythonData",
   "language": "python",
   "name": "pythondata"
  },
  "language_info": {
   "codemirror_mode": {
    "name": "ipython",
    "version": 3
   },
   "file_extension": ".py",
   "mimetype": "text/x-python",
   "name": "python",
   "nbconvert_exporter": "python",
   "pygments_lexer": "ipython3",
   "version": "3.7.7"
  }
 },
 "nbformat": 4,
 "nbformat_minor": 5
}
