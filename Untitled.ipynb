{
 "cells": [
  {
   "cell_type": "code",
   "execution_count": 16,
   "id": "9452d460",
   "metadata": {
    "scrolled": true
   },
   "outputs": [],
   "source": [
    "import pandas as pd\n",
    "import sqlite3 as sql\n",
    "import numpy as np\n",
    "from nba_api.stats.endpoints import playercareerstats\n",
    "import requests\n",
    "import json\n",
    "import matplotlib.pyplot as plt\n",
    "import os\n",
    "draft_df = pd.read_excel('Resources/NBA Drafts.xlsx')\n",
    "db_path = 'archive/basketball.sqlite'\n",
    "connection = sql.connect(db_path) # create connection object to database\n",
    "table = pd.read_sql_query(\"SELECT name FROM sqlite_master WHERE type='table'\", connection)\n",
    "mvp = pd.read_excel('new_folder/NBA_Finals_and_MVP.xlsx')"
   ]
  },
  {
   "cell_type": "code",
   "execution_count": 93,
   "id": "5cdc69b6",
   "metadata": {
    "scrolled": true
   },
   "outputs": [
    {
     "data": {
      "text/html": [
       "<div>\n",
       "<style scoped>\n",
       "    .dataframe tbody tr th:only-of-type {\n",
       "        vertical-align: middle;\n",
       "    }\n",
       "\n",
       "    .dataframe tbody tr th {\n",
       "        vertical-align: top;\n",
       "    }\n",
       "\n",
       "    .dataframe thead th {\n",
       "        text-align: right;\n",
       "    }\n",
       "</style>\n",
       "<table border=\"1\" class=\"dataframe\">\n",
       "  <thead>\n",
       "    <tr style=\"text-align: right;\">\n",
       "      <th></th>\n",
       "      <th>organization</th>\n",
       "      <th>player_count</th>\n",
       "    </tr>\n",
       "  </thead>\n",
       "  <tbody>\n",
       "    <tr>\n",
       "      <th>0</th>\n",
       "      <td>None</td>\n",
       "      <td>15</td>\n",
       "    </tr>\n",
       "    <tr>\n",
       "      <th>1</th>\n",
       "      <td>College/University</td>\n",
       "      <td>7389</td>\n",
       "    </tr>\n",
       "    <tr>\n",
       "      <th>2</th>\n",
       "      <td>High School</td>\n",
       "      <td>48</td>\n",
       "    </tr>\n",
       "    <tr>\n",
       "      <th>3</th>\n",
       "      <td>Other Team/Club</td>\n",
       "      <td>304</td>\n",
       "    </tr>\n",
       "  </tbody>\n",
       "</table>\n",
       "</div>"
      ],
      "text/plain": [
       "         organization  player_count\n",
       "0                None            15\n",
       "1  College/University          7389\n",
       "2         High School            48\n",
       "3     Other Team/Club           304"
      ]
     },
     "execution_count": 93,
     "metadata": {},
     "output_type": "execute_result"
    }
   ],
   "source": [
    "query = \"\"\"\n",
    "    SELECT\n",
    "        typeOrganizationFrom AS organization,\n",
    "        COUNT(DISTINCT idPlayer) AS player_count\n",
    "    FROM Draft\n",
    "    GROUP BY typeOrganizationFrom;\n",
    "\"\"\"\n",
    "draft_player_org = pd.read_sql(query, connection)\n",
    "draft_player_org"
   ]
  },
  {
   "cell_type": "code",
   "execution_count": null,
   "id": "4a765933",
   "metadata": {},
   "outputs": [],
   "source": [
    "mvp = pd.DataFrame(mvp)"
   ]
  },
  {
   "cell_type": "code",
   "execution_count": 4,
   "id": "aeb40fcc",
   "metadata": {
    "scrolled": true
   },
   "outputs": [],
   "source": [
    "mvp_postions = mvp['MVP Position']"
   ]
  },
  {
   "cell_type": "code",
   "execution_count": 21,
   "id": "c39dfff8",
   "metadata": {
    "scrolled": true
   },
   "outputs": [],
   "source": [
    "mvp_postions = pd.DataFrame(mvp_postions)\n",
    "mvp_postions['value']"
   ]
  },
  {
   "cell_type": "code",
   "execution_count": 6,
   "id": "46a47cb8",
   "metadata": {},
   "outputs": [],
   "source": [
    "mvp_postions_percentage = mvp_postions.value_counts()"
   ]
  },
  {
   "cell_type": "code",
   "execution_count": 7,
   "id": "354dde70",
   "metadata": {},
   "outputs": [
    {
     "data": {
      "text/plain": [
       "<matplotlib.axes._subplots.AxesSubplot at 0x7fa25f3a11d0>"
      ]
     },
     "execution_count": 7,
     "metadata": {},
     "output_type": "execute_result"
    },
    {
     "data": {
      "image/png": "[encoded data removed]",
      "text/plain": [
       "<Figure size 432x288 with 1 Axes>"
      ]
     },
     "metadata": {},
     "output_type": "display_data"
    }
   ],
   "source": [
    "mvp_postions_percentage.plot(kind = \"pie\", autopct=\"%1.1f%%\")"
   ]
  },
  {
   "cell_type": "code",
   "execution_count": 54,
   "id": "ec7e3f0b",
   "metadata": {},
   "outputs": [],
   "source": [
    "sixties = mvp.iloc[10:19]['MVP Position']\n",
    "seventies = mvp.iloc[20:29]['MVP Position']\n",
    "eighties = mvp.iloc[30:39]['MVP Position']\n",
    "nineties = mvp.iloc[40:49]['MVP Position']\n",
    "twok = mvp.iloc[50:59]['MVP Position']\n",
    "tens = mvp.iloc[60:69]['MVP Position']"
   ]
  },
  {
   "cell_type": "code",
   "execution_count": 55,
   "id": "d11d922f",
   "metadata": {},
   "outputs": [],
   "source": [
    "sixties = sixties.value_counts()\n",
    "seventies = seventies.value_counts()\n",
    "eighties = eighties.value_counts()\n",
    "nineties = nineties.value_counts()\n",
    "twok = twok.value_counts()\n",
    "tens = tens.value_counts()"
   ]
  },
  {
   "cell_type": "code",
   "execution_count": 56,
   "id": "4338fb4d",
   "metadata": {
    "scrolled": true
   },
   "outputs": [
    {
     "data": {
      "text/plain": [
       "Center    8\n",
       "Guard     1\n",
       "Name: MVP Position, dtype: int64"
      ]
     },
     "execution_count": 56,
     "metadata": {},
     "output_type": "execute_result"
    }
   ],
   "source": []
  },
  {
   "cell_type": "code",
   "execution_count": 57,
   "id": "3735e59b",
   "metadata": {},
   "outputs": [
    {
     "data": {
      "text/plain": [
       "Center    9\n",
       "Name: MVP Position, dtype: int64"
      ]
     },
     "execution_count": 57,
     "metadata": {},
     "output_type": "execute_result"
    }
   ],
   "source": []
  },
  {
   "cell_type": "code",
   "execution_count": 65,
   "id": "acb041a7",
   "metadata": {},
   "outputs": [],
   "source": [
    "index = ['60s','70s','80s', '90s']\n",
    "df = pd.DataFrame({'60': sixties,\n",
    "                   '70s': seventies,\n",
    "                   '80s': eighties,\n",
    "                   '90s':nineties,\n",
    "                   '00s':twok,\n",
    "                   '10s':tens\n",
    "                  })"
   ]
  },
  {
   "cell_type": "code",
   "execution_count": 66,
   "id": "a17f6d5a",
   "metadata": {
    "scrolled": false
   },
   "outputs": [
    {
     "data": {
      "text/plain": [
       "<matplotlib.axes._subplots.AxesSubplot at 0x7fa260506990>"
      ]
     },
     "execution_count": 66,
     "metadata": {},
     "output_type": "execute_result"
    },
    {
     "data": {
      "image/png": "[encoded data removed]",
      "text/plain": [
       "<Figure size 432x288 with 1 Axes>"
      ]
     },
     "metadata": {
      "needs_background": "light"
     },
     "output_type": "display_data"
    }
   ],
   "source": [
    "df = df.T\n",
    "df.plot.bar(rot=0)"
   ]
  },
  {
   "cell_type": "code",
   "execution_count": 84,
   "id": "eedd6bb7",
   "metadata": {
    "scrolled": true
   },
   "outputs": [
    {
     "data": {
      "text/plain": [
       "<matplotlib.axes._subplots.AxesSubplot at 0x7fa25f08fb10>"
      ]
     },
     "execution_count": 84,
     "metadata": {},
     "output_type": "execute_result"
    },
    {
     "data": {
      "image/png": "[encoded data removed]",
      "text/plain": [
       "<Figure size 432x288 with 1 Axes>"
      ]
     },
     "metadata": {
      "needs_background": "light"
     },
     "output_type": "display_data"
    }
   ],
   "source": [
    "heightdf = pd.DataFrame(mvp['MVP Height (ft)'])\n",
    "heightdf.plot.box()\n"
   ]
  },
  {
   "cell_type": "code",
   "execution_count": 89,
   "id": "26aff003",
   "metadata": {},
   "outputs": [
    {
     "data": {
      "text/plain": [
       "0.25    6.498032\n",
       "0.50    6.758530\n",
       "0.75    6.922572\n",
       "Name: MVP Height (ft), dtype: float64"
      ]
     },
     "execution_count": 89,
     "metadata": {},
     "output_type": "execute_result"
    }
   ],
   "source": [
    "quartiles = mvp['MVP Height (ft)'].quantile([.25,.5,.75])\n",
    "lowerq = quartiles[0.25]\n",
    "midq = quartiles[0.5]\n",
    "upperq = quartiles[0.75]\n",
    "iqr = upperq-lowerq\n",
    "quartiles"
   ]
  },
  {
   "cell_type": "code",
   "execution_count": 83,
   "id": "feb074b6",
   "metadata": {},
   "outputs": [
    {
     "data": {
      "text/plain": [
       "0       NaN\n",
       "1       NaN\n",
       "2       NaN\n",
       "3       NaN\n",
       "4       NaN\n",
       "      ...  \n",
       "64      mid\n",
       "65    short\n",
       "66    short\n",
       "67    short\n",
       "68    short\n",
       "Name: MVP Height (ft), Length: 69, dtype: category\n",
       "Categories (3, object): ['short' < 'mid' < 'tall']"
      ]
     },
     "execution_count": 83,
     "metadata": {},
     "output_type": "execute_result"
    }
   ],
   "source": [
    "ft_bins = [6,6.5,7,7.5]\n",
    "ft_labels = [\"short\", \"mid\", \"tall\"]\n",
    "pd.cut(mvp['MVP Height (ft)'], ft_bins, labels=ft_labels)"
   ]
  },
  {
   "cell_type": "code",
   "execution_count": null,
   "id": "719f3442",
   "metadata": {},
   "outputs": [],
   "source": []
  }
 ],
 "metadata": {
  "kernelspec": {
   "display_name": "PythonData",
   "language": "python",
   "name": "pythondata"
  },
  "language_info": {
   "codemirror_mode": {
    "name": "ipython",
    "version": 3
   },
   "file_extension": ".py",
   "mimetype": "text/x-python",
   "name": "python",
   "nbconvert_exporter": "python",
   "pygments_lexer": "ipython3",
   "version": "3.7.7"
  }
 },
 "nbformat": 4,
 "nbformat_minor": 5
}
